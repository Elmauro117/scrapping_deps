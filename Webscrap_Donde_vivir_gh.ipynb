{
 "cells": [
  {
   "cell_type": "markdown",
   "metadata": {},
   "source": [
    "# Webscrap Donde_vivir:\n",
    "### Scrapea precios, habitaciones, baños, cocheras, zonas/locaciones de cada Inmueble en venta de la pagina web Donde_vivir"
   ]
  },
  {
   "cell_type": "code",
   "execution_count": 20,
   "metadata": {},
   "outputs": [],
   "source": [
    "from bs4 import BeautifulSoup\n",
    "import requests\n",
    "import time\n",
    "import datetime\n",
    "import smtplib\n",
    "import urllib.request\n",
    "import re"
   ]
  },
  {
   "cell_type": "code",
   "execution_count": 21,
   "metadata": {},
   "outputs": [],
   "source": [
    "URL =\"http://www.adondevivir.com/departamentos-en-venta-en-arequipa-provincia.html\"\n",
    "headers = {\"User-Agent\": \"Mozilla/5.0 (Windows NT 10.0; Win64; x64) AppleWebKit/537.36 (KHTML, like Gecko) Chrome/78.0.3904.108 Safari/537.36\", \"Accept-Encoding\":\"gzip, deflate\", \"Accept\":\"text/html,application/xhtml+xml,application/xml;q=0.9,*/*;q=0.8\", \"DNT\":\"1\",\"Connection\":\"close\", \"Upgrade-Insecure-Requests\":\"1\"}\n",
    "\n",
    "page = requests.get(URL, headers=headers)\n",
    "soup = BeautifulSoup(page.content, \"html.parser\")\n",
    "soup2 = BeautifulSoup(soup.prettify(), \"html.parser\")"
   ]
  },
  {
   "cell_type": "code",
   "execution_count": 22,
   "metadata": {
    "scrolled": true
   },
   "outputs": [
    {
     "data": {
      "text/plain": [
       "200"
      ]
     },
     "execution_count": 22,
     "metadata": {},
     "output_type": "execute_result"
    }
   ],
   "source": [
    "page.status_code"
   ]
  },
  {
   "cell_type": "code",
   "execution_count": 23,
   "metadata": {},
   "outputs": [],
   "source": [
    "depas = soup.find_all(\"div\", attrs = {\"class\":\"sc-1tt2vbg-5 GcsXo\"})\n",
    "\n",
    "lista=[]\n",
    "for depa in depas: \n",
    "    x = depa.find(\"div\", attrs = {\"data-qa\":\"POSTING_CARD_PRICE\"})\n",
    "    lista.append(x)"
   ]
  },
  {
   "cell_type": "code",
   "execution_count": 24,
   "metadata": {},
   "outputs": [
    {
     "data": {
      "text/plain": [
       "[<div class=\"sc-12dh9kl-3 dBiZcY\" data-qa=\"POSTING_CARD_PRICE\">S/ 264,704 · USD 70,400</div>,\n",
       " <div class=\"sc-12dh9kl-3 dBiZcY\" data-qa=\"POSTING_CARD_PRICE\">S/ 451,400 · USD 122,000</div>,\n",
       " <div class=\"sc-12dh9kl-3 dBiZcY\" data-qa=\"POSTING_CARD_PRICE\">S/ 345,210 · USD 93,000</div>,\n",
       " <div class=\"sc-12dh9kl-3 dBiZcY\" data-qa=\"POSTING_CARD_PRICE\">S/ 553,185 · USD 145,575</div>,\n",
       " <div class=\"sc-12dh9kl-3 dBiZcY\" data-qa=\"POSTING_CARD_PRICE\">S/ 220,000 · USD 57,500</div>,\n",
       " <div class=\"sc-12dh9kl-3 dBiZcY\" data-qa=\"POSTING_CARD_PRICE\">S/ 748,250 · USD 199,534</div>,\n",
       " <div class=\"sc-12dh9kl-3 dBiZcY\" data-qa=\"POSTING_CARD_PRICE\">S/ 748,250 · USD 199,534</div>,\n",
       " <div class=\"sc-12dh9kl-3 dBiZcY\" data-qa=\"POSTING_CARD_PRICE\">S/ 240,000</div>,\n",
       " <div class=\"sc-12dh9kl-3 dBiZcY\" data-qa=\"POSTING_CARD_PRICE\">S/ 832,500 · USD 225,000</div>,\n",
       " <div class=\"sc-12dh9kl-3 dBiZcY\" data-qa=\"POSTING_CARD_PRICE\">S/ 329,000 · USD 87,000</div>,\n",
       " <div class=\"sc-12dh9kl-3 dBiZcY\" data-qa=\"POSTING_CARD_PRICE\">S/ 528,000 · USD 143,000</div>,\n",
       " <div class=\"sc-12dh9kl-3 dBiZcY\" data-qa=\"POSTING_CARD_PRICE\">S/ 740,274 · USD 199,534</div>,\n",
       " <div class=\"sc-12dh9kl-3 dBiZcY\" data-qa=\"POSTING_CARD_PRICE\">S/ 1,368,000 · USD 360,000</div>,\n",
       " <div class=\"sc-12dh9kl-3 dBiZcY\" data-qa=\"POSTING_CARD_PRICE\">S/ 469,000 · USD 121,000</div>,\n",
       " <div class=\"sc-12dh9kl-3 dBiZcY\" data-qa=\"POSTING_CARD_PRICE\">S/ 535,716 · USD 145,575</div>,\n",
       " <div class=\"sc-12dh9kl-3 dBiZcY\" data-qa=\"POSTING_CARD_PRICE\">S/ 795,500 · USD 215,000</div>,\n",
       " <div class=\"sc-12dh9kl-3 dBiZcY\" data-qa=\"POSTING_CARD_PRICE\">S/ 516,000 · USD 138,000</div>,\n",
       " <div class=\"sc-12dh9kl-3 dBiZcY\" data-qa=\"POSTING_CARD_PRICE\">S/ 1,406,000 · USD 380,000</div>,\n",
       " <div class=\"sc-12dh9kl-3 dBiZcY\" data-qa=\"POSTING_CARD_PRICE\">S/ 549,146 · USD 148,417</div>,\n",
       " <div class=\"sc-12dh9kl-3 dBiZcY\" data-qa=\"POSTING_CARD_PRICE\">S/ 870,000 · USD 225,000</div>]"
      ]
     },
     "execution_count": 24,
     "metadata": {},
     "output_type": "execute_result"
    }
   ],
   "source": [
    "lista"
   ]
  },
  {
   "cell_type": "code",
   "execution_count": 207,
   "metadata": {},
   "outputs": [],
   "source": [
    "### Sacamos los HREFS para meternos ahi y scrapear\n",
    "links = []\n",
    "\n",
    "for depa in depas:\n",
    "    x = depa.find('a', attrs={'href': re.compile(\"/*\")})\n",
    "    x = x.get(\"href\")\n",
    "    links.append(x)"
   ]
  },
  {
   "cell_type": "code",
   "execution_count": 208,
   "metadata": {},
   "outputs": [
    {
     "data": {
      "text/plain": [
       "['/propiedades/proyecto/ememefin-el-remanso-residencial-cerro-colorado-142085931.html',\n",
       " '/propiedades/proyecto/ememvein-torre-biella-umacollo-frente-al-parque-90997353.html',\n",
       " '/propiedades/proyecto/ememvein-residencial-cervantes-90770873.html',\n",
       " '/propiedades/proyecto/ememvein-veranda-tu-primer-hogar-91192325.html',\n",
       " '/propiedades/proyecto/ememcein-ares-902-boutique-aparts-90337227.html',\n",
       " '/propiedades/proyecto/ememvein-edificio-cayma-315-65812947.html',\n",
       " '/propiedades/proyecto/ememvein-edificio-cayma-315-142579795.html',\n",
       " '/propiedades/clasificado/veclapin-precio-increible:-hermoso-departamento-en-las-cumbres-143210054.html',\n",
       " '/propiedades/clasificado/veclapin-bonito-duplex-en-urb.-tahuaycani-143188636.html',\n",
       " '/propiedades/clasificado/veclapin-departamento-de-80-m-sup2--13-de-cochera-en-urb.-143317354.html',\n",
       " '/propiedades/clasificado/veclapin-departamentos-en-venta-zona-residencial-arequipa-142222731.html',\n",
       " '/propiedades/clasificado/veclapin-vendo-dpto-estreno-cayma-piso-6-143198277.html',\n",
       " '/propiedades/clasificado/veclapin-venta-penthouse-triplex-de-lujo-en-cayma-142356574.html',\n",
       " '/propiedades/clasificado/veclapin-proyecto-torre-biela-142739917.html',\n",
       " '/propiedades/clasificado/veclapin-cayma!-preventa-elegantes-departamentos-cerca-a-los-142981922.html',\n",
       " '/propiedades/clasificado/veclapin--en-av!-vendo-departamento-3er-piso-los-andenes-cayma-142738666.html',\n",
       " '/propiedades/clasificado/veclapin-departamento-en-venta-en-los-portales-de-cayma-143175924.html',\n",
       " '/propiedades/clasificado/veclapin-triplex-de-ensueno:-vistas-unicas-en-cayma-143093483.html',\n",
       " '/propiedades/clasificado/veclapin-venta-dpto-ultimo-dpto-en-proyecto-ikiga-cayma-1er-143356439.html',\n",
       " '/propiedades/clasificado/veclapin-venta-departamento-4-dorm.-piedra-santa-59450334.html']"
      ]
     },
     "execution_count": 208,
     "metadata": {},
     "output_type": "execute_result"
    }
   ],
   "source": [
    "links"
   ]
  },
  {
   "cell_type": "code",
   "execution_count": 196,
   "metadata": {},
   "outputs": [],
   "source": [
    "# links=  ['/propiedades/proyecto/ememefin-el-remanso-residencial-cerro-colorado-142085931.html',\n",
    "#  '/propiedades/proyecto/ememvein-torre-biella-umacollo-frente-al-parque-90997353.html',\n",
    "#  '/propiedades/proyecto/ememvein-residencial-cervantes-90770873.html',\n",
    "#  '/propiedades/proyecto/ememvein-veranda-tu-primer-hogar-91192325.html',\n",
    "#  '/propiedades/proyecto/ememcein-ares-902-boutique-aparts-90337227.html',\n",
    "#  '/propiedades/proyecto/ememvein-edificio-cayma-315-65812947.html']"
   ]
  },
  {
   "cell_type": "code",
   "execution_count": 209,
   "metadata": {},
   "outputs": [],
   "source": [
    "unidades=[]\n",
    "m2_ = []\n",
    "m2_cub = []\n",
    "estac = []\n",
    "#dorm = []\n",
    "lista_precios_real=[]\n",
    "lista_locacion=[]\n",
    "#baños_medios = []\n",
    "m2_reales = []\n",
    "dormitorios_ = []\n",
    "antiguedad_ = []\n",
    "banos_ = []"
   ]
  },
  {
   "cell_type": "code",
   "execution_count": 210,
   "metadata": {},
   "outputs": [],
   "source": [
    " header = [\"lista_precios\",\n",
    "            \"lista_locacion\",\n",
    "            \"baños_medios\",\n",
    "            \"m2_\",\n",
    "            \"m2_reales\",\n",
    "            \"banos_\",\n",
    "            \"dormitorios_\",\n",
    "            \"antiguedad_\", \"unidades\",\"cochera\"]\n",
    "\n",
    "with open(\"Depas.csv\", \"w\", newline='', encoding=\"UTF8\") as f:\n",
    "        writer = csv.writer(f)\n",
    "        writer.writerow(header)"
   ]
  },
  {
   "cell_type": "code",
   "execution_count": 211,
   "metadata": {},
   "outputs": [
    {
     "name": "stdout",
     "output_type": "stream",
     "text": [
      "https://www.adondevivir.com/propiedades/proyecto/ememefin-el-remanso-residencial-cerro-colorado-142085931.html\n",
      "200\n",
      "caracter, raro se pasa\n",
      "https://www.adondevivir.com/propiedades/proyecto/ememvein-torre-biella-umacollo-frente-al-parque-90997353.html\n",
      "200\n",
      "caracter, raro se pasa\n",
      "https://www.adondevivir.com/propiedades/proyecto/ememvein-residencial-cervantes-90770873.html\n",
      "200\n",
      "caracter, raro se pasa\n",
      "https://www.adondevivir.com/propiedades/proyecto/ememvein-veranda-tu-primer-hogar-91192325.html\n",
      "200\n",
      "caracter, raro se pasa\n",
      "https://www.adondevivir.com/propiedades/proyecto/ememcein-ares-902-boutique-aparts-90337227.html\n",
      "200\n",
      "caracter, raro se pasa\n",
      "https://www.adondevivir.com/propiedades/proyecto/ememvein-edificio-cayma-315-65812947.html\n",
      "200\n",
      "caracter, raro se pasa\n",
      "https://www.adondevivir.com/propiedades/proyecto/ememvein-edificio-cayma-315-142579795.html\n",
      "200\n",
      "caracter, raro se pasa\n",
      "https://www.adondevivir.com/propiedades/clasificado/veclapin-precio-increible:-hermoso-departamento-en-las-cumbres-143210054.html\n",
      "200\n",
      "59m² tot.\n",
      "59m² cub.\n",
      "2 dorm. \n",
      "2 años\n",
      "2baños\n",
      "https://www.adondevivir.com/propiedades/clasificado/veclapin-bonito-duplex-en-urb.-tahuaycani-143188636.html\n",
      "200\n",
      "153m² tot.\n",
      "134m² cub.\n",
      "3 dorm. \n",
      "A estrenar\n",
      "3baños\n",
      "1 estac.\n",
      "https://www.adondevivir.com/propiedades/clasificado/veclapin-departamento-de-80-m-sup2--13-de-cochera-en-urb.-143317354.html\n",
      "200\n",
      "80m² tot.\n",
      "80m² cub.\n",
      "3 dorm. \n",
      "A estrenar\n",
      "2baños\n",
      "1 estac.\n",
      "https://www.adondevivir.com/propiedades/clasificado/veclapin-departamentos-en-venta-zona-residencial-arequipa-142222731.html\n",
      "200\n",
      "1medio baño\n",
      "140m² tot.\n",
      "120m² cub.\n",
      "3 dorm. \n",
      "A estrenar\n",
      "2baños\n",
      "1 estac.\n",
      "https://www.adondevivir.com/propiedades/clasificado/veclapin-vendo-dpto-estreno-cayma-piso-6-143198277.html\n",
      "200\n",
      "128m² tot.\n",
      "114m² cub.\n",
      "3 dorm. \n",
      "A estrenar\n",
      "3baños\n",
      "1 estac.\n",
      "https://www.adondevivir.com/propiedades/clasificado/veclapin-venta-penthouse-triplex-de-lujo-en-cayma-142356574.html\n",
      "200\n",
      "2medios baños\n",
      "380m² cub.\n",
      "A estrenar\n",
      "5baños\n",
      "2 estac.\n",
      "https://www.adondevivir.com/propiedades/clasificado/veclapin-proyecto-torre-biela-142739917.html\n",
      "200\n",
      "1medio baño\n",
      "320m² tot.\n",
      "78m² cub.\n",
      "2 dorm. \n",
      "A estrenar\n",
      "2baños\n",
      "1 estac.\n",
      "https://www.adondevivir.com/propiedades/clasificado/veclapin-cayma!-preventa-elegantes-departamentos-cerca-a-los-142981922.html\n",
      "200\n",
      "1medio baño\n",
      "116m² tot.\n",
      "116m² cub.\n",
      "3 dorm. \n",
      "A estrenar\n",
      "2baños\n",
      "1 estac.\n",
      "https://www.adondevivir.com/propiedades/clasificado/veclapin--en-av!-vendo-departamento-3er-piso-los-andenes-cayma-142738666.html\n",
      "200\n",
      "1medio baño\n",
      "180m² tot.\n",
      "164m² cub.\n",
      "3 dorm. \n",
      "8 años\n",
      "2baños\n",
      "1 estac.\n",
      "https://www.adondevivir.com/propiedades/clasificado/veclapin-departamento-en-venta-en-los-portales-de-cayma-143175924.html\n",
      "200\n",
      "1medio baño\n",
      "128m² tot.\n",
      "128m² cub.\n",
      "3 dorm. \n",
      "15 años\n",
      "4baños\n",
      "1 estac.\n",
      "https://www.adondevivir.com/propiedades/clasificado/veclapin-triplex-de-ensueno:-vistas-unicas-en-cayma-143093483.html\n",
      "200\n",
      "379m² tot.\n",
      "309m² cub.\n",
      "3 dorm. \n",
      "1 años\n",
      "4baños\n",
      "2 estac.\n",
      "https://www.adondevivir.com/propiedades/clasificado/veclapin-venta-dpto-ultimo-dpto-en-proyecto-ikiga-cayma-1er-143356439.html\n",
      "200\n",
      "93m² tot.\n",
      "76m² cub.\n",
      "2 dorm. \n",
      "A estrenar\n",
      "2baños\n",
      "https://www.adondevivir.com/propiedades/clasificado/veclapin-venta-departamento-4-dorm.-piedra-santa-59450334.html\n",
      "200\n",
      "1medio baño\n",
      "172m² tot.\n",
      "172m² cub.\n",
      "4 dorm. \n",
      "A estrenar\n",
      "4baños\n",
      "1 estac.\n"
     ]
    }
   ],
   "source": [
    "\n",
    "for anchor in links:\n",
    "    anchor = str(\"https://www.adondevivir.com\"+ anchor)\n",
    "    headers = {\"User-Agent\": \"Mozilla/5.0 (Windows NT 10.0; Win64; x64) AppleWebKit/537.36 (KHTML, like Gecko) Chrome/78.0.3904.108 Safari/537.36\", \"Accept-Encoding\":\"gzip, deflate\", \"Accept\":\"text/html,application/xhtml+xml,application/xml;q=0.9,*/*;q=0.8\", \"DNT\":\"1\",\"Connection\":\"close\", \"Upgrade-Insecure-Requests\":\"1\"}\n",
    "    print(anchor)\n",
    "    page = requests.get(anchor, headers=headers)\n",
    "    soup = BeautifulSoup(page.content, \"html.parser\")\n",
    "    soup2 = BeautifulSoup(soup.prettify(), \"html.parser\")\n",
    "    \n",
    "    ## Para cada Link formamos una lista nueva\n",
    "    unidades=[]\n",
    "    m2_ = []\n",
    "    m2_cub = []\n",
    "    estac = []\n",
    "    #dorm = []\n",
    "    lista_precios_real=[]\n",
    "    lista_locacion=[]\n",
    "    #baños_medios = []\n",
    "    m2_reales = []\n",
    "    dormitorios_ = []\n",
    "    antiguedad_ = []\n",
    "    banos_ = []\n",
    "    \n",
    "    if page.status_code == \"404\":\n",
    "        print(\"problemas\")\n",
    "        break\n",
    "    else:\n",
    "        print(page.status_code)\n",
    "        #pass\n",
    "        try:            \n",
    "            precios = soup.find_all(\"span\", attrs = {\"class\":\"list-prices\"})\n",
    "            #print(precios)\n",
    "            lista_precios=[] ### NO SIRVE\n",
    "            for precio in precios:\n",
    "                x = precio.find_all(\"span\")\n",
    "                #print(x)\n",
    "                for i in x:\n",
    "                    i = i.text\n",
    "                    i = i.strip()\n",
    "                    #lista_precios.append(i)\n",
    "                    if i not in ['.','venta',\"\",'·']:\n",
    "                        i = i.replace('·', '').strip()\n",
    "                        lista_precios.append(i)                \n",
    "                    else:\n",
    "                        print(\"caracter, raro se pasa\")    \n",
    "                        pass\n",
    "                \n",
    "                    \n",
    "            x = ''.join(lista_precios)\n",
    "            lista_precios_real.append(x)\n",
    "\n",
    "            locas = soup.find(\"div\", attrs = {\"class\":\"section-location-property\"})\n",
    "            #print(locas)\n",
    "            \n",
    "            if locas:\n",
    "                x = locas.find(\"h4\")\n",
    "                x = x.text\n",
    "                lista_locacion.append(x)\n",
    "            \n",
    "        except:\n",
    "            print(\"ERROR !!!!   Problemas\")\n",
    "            break\n",
    "            \n",
    "        try:\n",
    "            precios = soup.find_all(\"span\", attrs = {\"class\":\"list-prices\"})\n",
    "            #print(precios)\n",
    "            lista_precios=[] ### NO SIRVE\n",
    "            for precio in precios:\n",
    "                x = precio.find_all(\"span\")\n",
    "                #print(x)\n",
    "                for i in x:\n",
    "                    i = i.text\n",
    "                    i = i.strip()\n",
    "                    #lista_precios.append(i)\n",
    "                    if i not in ['.','venta',\"\",'·']:\n",
    "                        i = i.replace('·', '').strip()\n",
    "                        lista_precios.append(i)                \n",
    "                    else:\n",
    "                        print(\"caracter, raro se pasa\")    \n",
    "                        pass\n",
    "        except:\n",
    "            print(\"ERROR !!!! NOS E ENCONTRO EL PRECIO DE VENTA!  Problemas\")\n",
    "            break\n",
    "        \n",
    "        try:\n",
    "            precios = soup.find_all(\"div\", attrs = {\"class\":\"price-value\"})\n",
    "            lista_precios=[] ### NO SIRVE\n",
    "            for precio in precios:\n",
    "                x = precio.find_all(\"span\")\n",
    "                #print(x)\n",
    "                for i in x:\n",
    "                    i = i.text\n",
    "                    i = i.strip()\n",
    "                    #lista_precios.append(i)\n",
    "                    if i not in ['.','venta',\"\",'·']:\n",
    "                        i = i.replace('·', '').strip()\n",
    "                        lista_precios.append(i)                \n",
    "                    else:\n",
    "                        print(\"caracter, raro se pasa\")    \n",
    "                        pass\n",
    "        except:\n",
    "            print(\"ERROR SEGUNDO PRECIO DE LISTA NO S EENCUENTRA\")\n",
    "        \n",
    "        try:\n",
    "            i_element_toilet = soup.find('i', class_='icon-toilete')\n",
    "            ### Para ubicarse en el hijo, pero tomar data del padre\n",
    "            \n",
    "            if i_element_toilet:\n",
    "                desired_string = i_element_toilet.find_next_sibling(string=True).text\n",
    "                desired_string = desired_string.replace('\\n', '').replace('\\t', '')\n",
    "                print(desired_string)\n",
    "                baños_medios.append(desired_string)\n",
    "\n",
    "            i_element_m2 = soup.find('i', class_='icon-stotal')\n",
    "            \n",
    "            if i_element_m2:\n",
    "                desired_string = i_element_m2.find_next_sibling(string=True).text\n",
    "                desired_string = desired_string.replace('\\n', '').replace('\\t', '')\n",
    "                print(desired_string)\n",
    "                m2_.append(desired_string)\n",
    "\n",
    "            i_element_m2_ = soup.find('i', class_='icon-scubierta')\n",
    "            \n",
    "            if i_element_m2_:\n",
    "                desired_string = i_element_m2_.find_next_sibling(string=True).text\n",
    "                desired_string = desired_string.replace('\\n', '').replace('\\t', '')\n",
    "                print(desired_string)\n",
    "                m2_reales.append(desired_string)\n",
    "\n",
    "            i_element_dormitorios = soup.find('i', class_='icon-dormitorio')\n",
    "            \n",
    "            if i_element_dormitorios:\n",
    "                desired_string = i_element_dormitorios.find_next_sibling(string=True).text\n",
    "                desired_string = desired_string.replace('\\n', '').replace('\\t', '')\n",
    "                print(desired_string)\n",
    "                dormitorios_.append(desired_string)\n",
    "\n",
    "            i_element_antiguo = soup.find('i', class_='icon-antiguedad')\n",
    "            \n",
    "            if i_element_antiguo:\n",
    "                desired_string = i_element_antiguo.find_next_sibling(string=True).text\n",
    "                desired_string = desired_string.replace('\\n', '').replace('\\t', '')\n",
    "                print(desired_string)\n",
    "                antiguedad_.append(desired_string)\n",
    "\n",
    "            i_element_banos = soup.find('i', class_='icon-bano')\n",
    "            \n",
    "            if i_element_banos:\n",
    "                desired_string = i_element_banos.find_next_sibling(string=True).text\n",
    "                desired_string = desired_string.replace('\\n', '').replace('\\t', '')\n",
    "                print(desired_string)\n",
    "                banos_.append(desired_string)\n",
    "                \n",
    "            i_element_coches = soup.find('i', class_='icon-cochera')\n",
    "            \n",
    "            if i_element_coches:\n",
    "                desired_string = i_element_coches.find_next_sibling(string=True).text\n",
    "                desired_string = desired_string.replace('\\n', '').replace('\\t', '')\n",
    "                print(desired_string)\n",
    "                estac.append(desired_string)\n",
    "        except: \n",
    "            pass\n",
    "        \n",
    "        try:\n",
    "            container = soup.find_all(\"div\", attrs = {\"class\":\"nf-container\"})           \n",
    "                    \n",
    "            for loca in container:\n",
    "                items = loca.find_all(\"div\", attrs = {\"class\":\"item\"})\n",
    "                for x in items:\n",
    "                    x = x.find(\"div\", attrs = {\"class\":\"label\"})\n",
    "                    x = x.text.replace('\\n', '').replace('\\t', '').strip()\n",
    "                    if \"unidad\" in x:\n",
    "                        y = x\n",
    "                        unidades.append(y)\n",
    "                    elif \"tot\" in x:\n",
    "                        y = x\n",
    "                        m2_.append(y)\n",
    "                    elif \"cub\" in x:\n",
    "                        y = x\n",
    "                        m2_cub.append(y)\n",
    "                    elif \"dorm\" in x:\n",
    "                        y = x\n",
    "                        dormitorios_.append(y)\n",
    "                    elif \"estac\" in x:\n",
    "                        y = x\n",
    "                        estac.append(y)\n",
    "                    elif \"baño\" in x:\n",
    "                        y = x\n",
    "                        banos_.append(y)\n",
    "                \n",
    "        except:\n",
    "            break\n",
    "        \n",
    "    import csv\n",
    "\n",
    "   \n",
    "\n",
    "    data = [lista_precios_real,\n",
    "            lista_locacion,\n",
    "            baños_medios,\n",
    "            m2_,\n",
    "            m2_reales,\n",
    "            banos_,\n",
    "            dormitorios_,\n",
    "            antiguedad_,\n",
    "            unidades,\n",
    "            estac\n",
    "            ]\n",
    "\n",
    "    with open(\"Depas.csv\", \"a+\", newline='', encoding=\"UTF8\") as f:\n",
    "        writer = csv.writer(f)\n",
    "        #writer.writerow(header)\n",
    "        writer.writerow(data)\n",
    "        \n",
    "#     with open('descrapper.csv', 'a+', newline='', encoding='UTF8') as f:\n",
    "#         writer = csv.writer(f)\n",
    "#         writer.writerow(data)"
   ]
  },
  {
   "cell_type": "code",
   "execution_count": 189,
   "metadata": {},
   "outputs": [
    {
     "data": {
      "text/plain": [
       "['DesdeS/ 748,250USD 199,534']"
      ]
     },
     "execution_count": 189,
     "metadata": {},
     "output_type": "execute_result"
    }
   ],
   "source": [
    "lista_precios_real"
   ]
  },
  {
   "cell_type": "code",
   "execution_count": 190,
   "metadata": {},
   "outputs": [
    {
     "data": {
      "text/plain": [
       "[' CAYMA 315,  Cayma, Arequipa']"
      ]
     },
     "execution_count": 190,
     "metadata": {},
     "output_type": "execute_result"
    }
   ],
   "source": [
    "lista_locacion"
   ]
  },
  {
   "cell_type": "code",
   "execution_count": 191,
   "metadata": {},
   "outputs": [
    {
     "data": {
      "text/plain": [
       "['3 a 4                                                    dorm.']"
      ]
     },
     "execution_count": 191,
     "metadata": {},
     "output_type": "execute_result"
    }
   ],
   "source": [
    "dormitorios_"
   ]
  },
  {
   "cell_type": "code",
   "execution_count": 192,
   "metadata": {},
   "outputs": [
    {
     "data": {
      "text/plain": [
       "[]"
      ]
     },
     "execution_count": 192,
     "metadata": {},
     "output_type": "execute_result"
    }
   ],
   "source": [
    "baños_medios"
   ]
  },
  {
   "cell_type": "code",
   "execution_count": 193,
   "metadata": {},
   "outputs": [
    {
     "data": {
      "text/plain": [
       "['114 a 270 m² tot.']"
      ]
     },
     "execution_count": 193,
     "metadata": {},
     "output_type": "execute_result"
    }
   ],
   "source": [
    "m2_"
   ]
  },
  {
   "cell_type": "code",
   "execution_count": 194,
   "metadata": {},
   "outputs": [
    {
     "data": {
      "text/plain": [
       "[]"
      ]
     },
     "execution_count": 194,
     "metadata": {},
     "output_type": "execute_result"
    }
   ],
   "source": [
    "m2_reales"
   ]
  },
  {
   "cell_type": "code",
   "execution_count": 195,
   "metadata": {},
   "outputs": [
    {
     "data": {
      "text/plain": [
       "['2 a 4                                                    dorm.',\n",
       " '2 a 3                                                    dorm.',\n",
       " '2 a 3                                                    dorm.',\n",
       " '3                                                    dorm.',\n",
       " '1 a 3                                                    dorm.',\n",
       " '3 a 4                                                    dorm.']"
      ]
     },
     "execution_count": 195,
     "metadata": {},
     "output_type": "execute_result"
    }
   ],
   "source": [
    "dorm"
   ]
  },
  {
   "cell_type": "code",
   "execution_count": 172,
   "metadata": {},
   "outputs": [
    {
     "data": {
      "text/plain": [
       "[]"
      ]
     },
     "execution_count": 172,
     "metadata": {},
     "output_type": "execute_result"
    }
   ],
   "source": [
    "banos_\n",
    "antiguedad_"
   ]
  },
  {
   "cell_type": "code",
   "execution_count": 182,
   "metadata": {},
   "outputs": [],
   "source": [
    "import csv\n",
    "\n",
    "header = [\"lista_precios\",\n",
    "            \"lista_locacion\",\n",
    "            \"baños_medios\",\n",
    "            \"m2_\",\n",
    "            \"m2_reales\",\n",
    "            \"banos_\",\n",
    "            \"dormitorios_\",\n",
    "            \"antiguedad_\", \"unidades\",\"cochera\"]\n",
    "\n",
    "data = [lista_precios_real,\n",
    "        lista_locacion,\n",
    "        baños_medios,\n",
    "        m2_,\n",
    "        m2_reales,\n",
    "        banos_,\n",
    "        dormitorios_,\n",
    "        antiguedad_,\n",
    "        unidades,\n",
    "        estac\n",
    "        ]\n",
    "\n",
    "with open(\"Depas.csv\", \"w\", newline='', encoding=\"UTF8\") as f:\n",
    "    writer = csv.writer(f)\n",
    "    writer.writerow(header)\n",
    "    writer.writerow(data)"
   ]
  },
  {
   "cell_type": "code",
   "execution_count": null,
   "metadata": {},
   "outputs": [],
   "source": []
  },
  {
   "cell_type": "code",
   "execution_count": 11,
   "metadata": {},
   "outputs": [],
   "source": [
    "#URL =\"https://www.adondevivir.com/propiedades/clasificado/veclapin-proyecto-torre-biela-142739917.html\"\n",
    "\n",
    "URL = \"https://www.adondevivir.com/propiedades/proyecto/ememefin-el-remanso-residencial-cerro-colorado-142085931.html\"\n",
    "headers = {\"User-Agent\": \"Mozilla/5.0 (Windows NT 10.0; Win64; x64) AppleWebKit/537.36 (KHTML, like Gecko) Chrome/78.0.3904.108 Safari/537.36\", \"Accept-Encoding\":\"gzip, deflate\", \"Accept\":\"text/html,application/xhtml+xml,application/xml;q=0.9,*/*;q=0.8\", \"DNT\":\"1\",\"Connection\":\"close\", \"Upgrade-Insecure-Requests\":\"1\"}\n",
    "\n",
    "page = requests.get(URL, headers=headers)\n",
    "\n",
    "soup = BeautifulSoup(page.content, \"html.parser\")\n",
    "\n",
    "soup2 = BeautifulSoup(soup.prettify(), \"html.parser\")\n"
   ]
  },
  {
   "cell_type": "code",
   "execution_count": 93,
   "metadata": {},
   "outputs": [
    {
     "data": {
      "text/plain": [
       "200"
      ]
     },
     "execution_count": 93,
     "metadata": {},
     "output_type": "execute_result"
    }
   ],
   "source": [
    "page.status_code"
   ]
  },
  {
   "cell_type": "code",
   "execution_count": 64,
   "metadata": {
    "scrolled": true
   },
   "outputs": [
    {
     "name": "stdout",
     "output_type": "stream",
     "text": [
      "[<span class=\"operation-type\">venta</span>, <span class=\"price-since\">Desde</span>, <span>S/ 220,000  · </span>, <span>USD 57,500 </span>]\n",
      "caracter, raro se pasa\n",
      "caracter, raro se pasa\n",
      "S/ 220,000\n",
      "USD 57,500\n"
     ]
    }
   ],
   "source": [
    "precios = soup.find_all(\"span\", attrs = {\"class\":\"list-prices\"})\n",
    "\n",
    "lista_precios=[]\n",
    "for precio in precios:\n",
    "    x = precio.find_all(\"span\")\n",
    "    print(x)\n",
    "    for i in x:\n",
    "        i = i.text\n",
    "        i = i.strip()\n",
    "        #lista_precios.append(i)\n",
    "        if i not in ['.','venta',\"\",'·',\"Desde\"]:\n",
    "            i = i.replace('·', '').strip()\n",
    "            lista_precios.append(i)\n",
    "            print(i)            \n",
    "#         if not any(char in ('.','venta*') for char in i):\n",
    "#             lista_precios.append(i)\n",
    "#             print(i)\n",
    "        else:\n",
    "            print(\"caracter, raro se pasa\")            "
   ]
  },
  {
   "cell_type": "code",
   "execution_count": 65,
   "metadata": {},
   "outputs": [
    {
     "data": {
      "text/plain": [
       "['S/ 220,000', 'USD 57,500']"
      ]
     },
     "execution_count": 65,
     "metadata": {},
     "output_type": "execute_result"
    }
   ],
   "source": [
    "lista_precios"
   ]
  },
  {
   "cell_type": "code",
   "execution_count": null,
   "metadata": {},
   "outputs": [],
   "source": []
  },
  {
   "cell_type": "code",
   "execution_count": 65,
   "metadata": {},
   "outputs": [
    {
     "name": "stdout",
     "output_type": "stream",
     "text": [
      "['78 Unidades']\n"
     ]
    }
   ],
   "source": [
    "container = soup.find_all(\"div\", attrs = {\"class\":\"nf-container\"})\n",
    "#print(container)\n",
    "#items_ = soup.find_all(\"div\", attrs = {\"class\":\"label\"})\n",
    "#print(items_)\n",
    "lista_locacion=[]\n",
    "for loca in container:\n",
    "    loca = loca.find(\"div\", attrs = {\"class\":\"label\"})\n",
    "    #x = loca.find(\"h4\")\n",
    "    x = loca.text\n",
    "    lista_locacion.append(x)    \n",
    "print(lista_locacion)"
   ]
  },
  {
   "cell_type": "code",
   "execution_count": 19,
   "metadata": {},
   "outputs": [
    {
     "name": "stdout",
     "output_type": "stream",
     "text": [
      "<class 'str'>\n"
     ]
    }
   ],
   "source": [
    "container = soup.find_all(\"div\", attrs = {\"class\":\"nf-container\"})\n",
    "#print(container)\n",
    "#items_ = soup.find_all(\"div\", attrs = {\"class\":\"label\"})\n",
    "#print(items_)\n",
    "\n",
    "lista_locacion=[]\n",
    "unidades=[]\n",
    "m2_ = []\n",
    "m2_cub = []\n",
    "estac = []\n",
    "dorm = []\n",
    "\n",
    "for loca in container:\n",
    "    items = loca.find_all(\"div\", attrs = {\"class\":\"item\"})\n",
    "    for x in items:\n",
    "        x = x.find(\"div\", attrs = {\"class\":\"label\"})\n",
    "        x = x.text.replace('\\n', '').replace('\\t', '').strip()\n",
    "        if \"unidad\" in x:\n",
    "            y = x\n",
    "            unidades.append(y)\n",
    "        elif \"tot\" in x:\n",
    "            y = x\n",
    "            m2_.append(y)\n",
    "        elif \"cub\" in x:\n",
    "            y = x\n",
    "            m2_cub.append(y)\n",
    "        elif \"dorm\" in x:\n",
    "            y = x\n",
    "            dorm.append(y)\n",
    "        elif \"estac\" in x:\n",
    "            y = x\n",
    "            estac.append(y)"
   ]
  },
  {
   "cell_type": "code",
   "execution_count": 17,
   "metadata": {},
   "outputs": [
    {
     "data": {
      "text/plain": [
       "['2 a 4                                                    dorm.']"
      ]
     },
     "execution_count": 17,
     "metadata": {},
     "output_type": "execute_result"
    }
   ],
   "source": [
    "dorm"
   ]
  },
  {
   "cell_type": "code",
   "execution_count": 3,
   "metadata": {},
   "outputs": [
    {
     "ename": "NameError",
     "evalue": "name 'soup' is not defined",
     "output_type": "error",
     "traceback": [
      "\u001b[1;31m---------------------------------------------------------------------------\u001b[0m",
      "\u001b[1;31mNameError\u001b[0m                                 Traceback (most recent call last)",
      "Cell \u001b[1;32mIn[3], line 1\u001b[0m\n\u001b[1;32m----> 1\u001b[0m locas \u001b[38;5;241m=\u001b[39m soup\u001b[38;5;241m.\u001b[39mfind_all(\u001b[38;5;124m\"\u001b[39m\u001b[38;5;124mdiv\u001b[39m\u001b[38;5;124m\"\u001b[39m, attrs \u001b[38;5;241m=\u001b[39m {\u001b[38;5;124m\"\u001b[39m\u001b[38;5;124mclass\u001b[39m\u001b[38;5;124m\"\u001b[39m:\u001b[38;5;124m\"\u001b[39m\u001b[38;5;124msection-location-property section-location-property-classified\u001b[39m\u001b[38;5;124m\"\u001b[39m})\n\u001b[0;32m      3\u001b[0m lista_locacion\u001b[38;5;241m=\u001b[39m[]\n\u001b[0;32m      4\u001b[0m \u001b[38;5;28;01mfor\u001b[39;00m loca \u001b[38;5;129;01min\u001b[39;00m locas:\n",
      "\u001b[1;31mNameError\u001b[0m: name 'soup' is not defined"
     ]
    }
   ],
   "source": [
    "locas = soup.find_all(\"div\", attrs = {\"class\":\"section-location-property section-location-property-classified\"})\n",
    "\n",
    "lista_locacion=[]\n",
    "for loca in locas:\n",
    "    x = loca.find(\"h4\")\n",
    "    x = x.text\n",
    "    lista_locacion.append(x)"
   ]
  },
  {
   "cell_type": "code",
   "execution_count": 165,
   "metadata": {},
   "outputs": [
    {
     "data": {
      "text/plain": [
       "[' González vigil,  Umacollo, Yanahuara']"
      ]
     },
     "execution_count": 165,
     "metadata": {},
     "output_type": "execute_result"
    }
   ],
   "source": [
    "lista_locacion"
   ]
  },
  {
   "cell_type": "code",
   "execution_count": 28,
   "metadata": {},
   "outputs": [],
   "source": [
    "metros_2 = soup.find_all(\"li\", attrs = {\"class\":\"icon-feature\"})\n",
    "cosas=[]\n",
    "for metro in metros_2:\n",
    "    x = metro.text\n",
    "    x = x.strip()\n",
    "    x = x.replace('\\n', '').replace('\\t', '')\n",
    "    cosas.append(x)"
   ]
  },
  {
   "cell_type": "code",
   "execution_count": 29,
   "metadata": {},
   "outputs": [
    {
     "ename": "NameError",
     "evalue": "name 'lista_metros_2' is not defined",
     "output_type": "error",
     "traceback": [
      "\u001b[1;31m---------------------------------------------------------------------------\u001b[0m",
      "\u001b[1;31mNameError\u001b[0m                                 Traceback (most recent call last)",
      "Cell \u001b[1;32mIn[29], line 1\u001b[0m\n\u001b[1;32m----> 1\u001b[0m lista_metros_2\n",
      "\u001b[1;31mNameError\u001b[0m: name 'lista_metros_2' is not defined"
     ]
    }
   ],
   "source": [
    "lista_metros_2"
   ]
  },
  {
   "cell_type": "code",
   "execution_count": 67,
   "metadata": {},
   "outputs": [],
   "source": [
    "i_element_toilet = soup.find('i', class_='icon-toilete')\n",
    "\n",
    "### Para ubicarse en el hijo, pero tomar data del padre\n",
    "baños_medios = []\n",
    "if i_element_toilet:\n",
    "    desired_string = i_element_toilet.find_next_sibling(string=True).text\n",
    "    desired_string = desired_string.replace('\\n', '').replace('\\t', '')\n",
    "    print(desired_string)\n",
    "    baños_medios.append(desired_string)"
   ]
  },
  {
   "cell_type": "code",
   "execution_count": 68,
   "metadata": {},
   "outputs": [
    {
     "data": {
      "text/plain": [
       "'En construcción'"
      ]
     },
     "execution_count": 68,
     "metadata": {},
     "output_type": "execute_result"
    }
   ],
   "source": [
    "desired_string"
   ]
  },
  {
   "cell_type": "code",
   "execution_count": 252,
   "metadata": {},
   "outputs": [
    {
     "name": "stdout",
     "output_type": "stream",
     "text": [
      "320m² tot.\n"
     ]
    }
   ],
   "source": [
    "i_element_m2 = soup.find('i', class_='icon-stotal')\n",
    "\n",
    "### Para ubicarse en el hijo, pero AGARRAR del padre\n",
    "m2_ = []\n",
    "if i_element_m2:\n",
    "    desired_string = i_element_m2.find_next_sibling(string=True).text\n",
    "    desired_string = desired_string.replace('\\n', '').replace('\\t', '')\n",
    "    print(desired_string)\n",
    "    m2_.append(desired_string)"
   ]
  },
  {
   "cell_type": "code",
   "execution_count": 254,
   "metadata": {},
   "outputs": [
    {
     "name": "stdout",
     "output_type": "stream",
     "text": [
      "78m² cub.\n"
     ]
    }
   ],
   "source": [
    "i_element_m2_ = soup.find('i', class_='icon-scubierta')\n",
    "\n",
    "### Para ubicarse en el hijo, pero AGARRAR del padre\n",
    "m2_reales = []\n",
    "if i_element_m2_:\n",
    "    desired_string = i_element_m2_.find_next_sibling(string=True).text\n",
    "    desired_string = desired_string.replace('\\n', '').replace('\\t', '')\n",
    "    print(desired_string)\n",
    "    m2_reales.append(desired_string)"
   ]
  },
  {
   "cell_type": "code",
   "execution_count": 255,
   "metadata": {},
   "outputs": [
    {
     "name": "stdout",
     "output_type": "stream",
     "text": [
      "2baños\n"
     ]
    }
   ],
   "source": [
    "i_element_banos = soup.find('i', class_='icon-bano')\n",
    "\n",
    "### Para ubicarse en el hijo, pero AGARRAR del padre\n",
    "banos_ = []\n",
    "if i_element_banos:\n",
    "    desired_string = i_element_banos.find_next_sibling(string=True).text\n",
    "    desired_string = desired_string.replace('\\n', '').replace('\\t', '')\n",
    "    print(desired_string)\n",
    "    banos_.append(desired_string)"
   ]
  },
  {
   "cell_type": "code",
   "execution_count": 12,
   "metadata": {},
   "outputs": [
    {
     "name": "stdout",
     "output_type": "stream",
     "text": [
      "2 dorm. \n"
     ]
    }
   ],
   "source": [
    "i_element_dormitorios = soup.find('i', class_='icon-dormitorio')\n",
    "\n",
    "### Para ubicarse en el hijo, pero AGARRAR del padre\n",
    "dormitorios_ = []\n",
    "if i_element_dormitorios:\n",
    "    desired_string = i_element_dormitorios.find_next_sibling(string=True).text\n",
    "    desired_string = desired_string.replace('\\n', '').replace('\\t', '')\n",
    "    print(desired_string)\n",
    "    dormitorios_.append(desired_string)"
   ]
  },
  {
   "cell_type": "code",
   "execution_count": 13,
   "metadata": {},
   "outputs": [
    {
     "name": "stdout",
     "output_type": "stream",
     "text": [
      "A estrenar\n"
     ]
    }
   ],
   "source": [
    "i_element_antiguo = soup.find('i', class_='icon-antiguedad')\n",
    "\n",
    "### Para ubicarse en el hijo, pero AGARRAR del padre\n",
    "antiguedad_ = []\n",
    "if i_element_antiguo:\n",
    "    desired_string = i_element_antiguo.find_next_sibling(string=True).text\n",
    "    desired_string = desired_string.replace('\\n', '').replace('\\t', '')\n",
    "    print(desired_string)\n",
    "    antiguedad_.append(desired_string)"
   ]
  },
  {
   "cell_type": "code",
   "execution_count": 14,
   "metadata": {},
   "outputs": [],
   "source": [
    "# caracteristicas = soup.find(\"div\", attrs = {\"id\":\"reactGeneralFeatures\"})\n",
    "# print(caracteristicas)\n",
    "# caracteristicas = caracteristicas.find(\"div\", attrs = {\"class\":\"sc-eNSrOW ZvhRh\"})\n",
    "# print(caracteristicas)\n",
    "# caracteristicas = caracteristicas.find(\"div\", attrs = {\"class\":\"sc-bJBgwP jATIFM\"})\n",
    "# print(caracteristicas)\n",
    "# ya = soup.find(\"span\", attrs = {\"class\":\"sc-dGCmGc igqaut\"})\n",
    "# print(ya)\n",
    "\n",
    "# caracteristicas_lista=[]\n",
    "# for cara in caracteristicas:\n",
    "#     x = cara.find_all(\"span\", attrs = {\"class\":\"sc-dGCmGc igqaut\"})\n",
    "#     x = x.text\n",
    "#     caracteristicas_lista.append(x)"
   ]
  },
  {
   "cell_type": "code",
   "execution_count": null,
   "metadata": {},
   "outputs": [],
   "source": []
  },
  {
   "cell_type": "code",
   "execution_count": 27,
   "metadata": {},
   "outputs": [],
   "source": [
    "def get_headings(url):\n",
    "    URL =\"http://www.adondevivir.com/departamentos-en-venta-en-arequipa-provincia.html\"\n",
    "    headers = {\"User-Agent\": \"Mozilla/5.0 (Windows NT 10.0; Win64; x64) AppleWebKit/537.36 (KHTML, like Gecko) Chrome/78.0.3904.108 Safari/537.36\", \"Accept-Encoding\":\"gzip, deflate\", \"Accept\":\"text/html,application/xhtml+xml,application/xml;q=0.9,*/*;q=0.8\", \"DNT\":\"1\",\"Connection\":\"close\", \"Upgrade-Insecure-Requests\":\"1\"}\n",
    "\n",
    "    page = requests.get(URL, headers=headers)\n",
    "    soup = BeautifulSoup(page.content, \"html.parser\")\n",
    "    soup2 = BeautifulSoup(soup.prettify(), \"html.parser\")\n",
    "\n",
    "    depas = soup.find_all(\"div\", attrs = {\"class\":\"sc-1tt2vbg-5 GcsXo\"})\n",
    "    links = []\n",
    "    for depa in depas:\n",
    "        x = depa.find('a', attrs={'href': re.compile(\"/*\")})\n",
    "        x = x.get(\"href\")\n",
    "        links.append(x)\n",
    "\n",
    "    for anchor in links:\n",
    "        #happens = urllib.request.urlopen(anchor)\n",
    "        anchor = str(\"https://www.adondevivir.com\"+ anchor)\n",
    "        headers = {\"User-Agent\": \"Mozilla/5.0 (Windows NT 10.0; Win64; x64) AppleWebKit/537.36 (KHTML, like Gecko) Chrome/78.0.3904.108 Safari/537.36\", \"Accept-Encoding\":\"gzip, deflate\", \"Accept\":\"text/html,application/xhtml+xml,application/xml;q=0.9,*/*;q=0.8\", \"DNT\":\"1\",\"Connection\":\"close\", \"Upgrade-Insecure-Requests\":\"1\"}\n",
    "        print(anchor)\n",
    "        page = requests.get(anchor, headers=headers)\n",
    "        soup = BeautifulSoup(page.content, \"html.parser\")\n",
    "        soup2 = BeautifulSoup(soup.prettify(), \"html.parser\")\n",
    "\n",
    "        if page.status_code == \"404\":\n",
    "            print(\"problemas\")\n",
    "            break\n",
    "        else:\n",
    "            print(page.status_code)\n",
    "            #pass\n",
    "            try:            \n",
    "                precios = soup.find_all(\"span\", attrs = {\"class\":\"list-prices\"})\n",
    "                print(precios)\n",
    "                lista_precios=[]\n",
    "                for precio in precios:\n",
    "                    x = precio.find_all(\"span\")\n",
    "                    #print(x)\n",
    "                    for i in x:\n",
    "                        i = i.text\n",
    "                        i = i.strip()\n",
    "                        #lista_precios.append(i)\n",
    "                        if i not in ['.','venta',\"\",'·']:\n",
    "                            i = i.replace('·', '').strip()\n",
    "                            lista_precios.append(i)\n",
    "                            lista_precios.append(i)\n",
    "                            print(i)            \n",
    "                #         if not any(char in ('.','venta*') for char in i):\n",
    "                #             lista_precios.append(i)\n",
    "                #             print(i)\n",
    "                        else:\n",
    "                            print(\"caracter, raro se pasa\")    \n",
    "\n",
    "                locas = soup.find_all(\"div\", attrs = {\"class\":\"section-location-property\"})\n",
    "                lista_locacion=[]\n",
    "                for loca in locas:\n",
    "                    x = loca.find(\"h4\")\n",
    "                    x = x.text\n",
    "                    lista_locacion.append(x)                \n",
    "\n",
    "                i_element_toilet = soup.find('i', class_='icon-toilete')\n",
    "                ### Para ubicarse en el hijo, pero tomar data del padre\n",
    "                baños_medios = []\n",
    "                if i_element_toilet:\n",
    "                    desired_string = i_element_toilet.find_next_sibling(string=True).text\n",
    "                    desired_string = desired_string.replace('\\n', '').replace('\\t', '')\n",
    "                    print(desired_string)\n",
    "                    baños_medios.append(desired_string)\n",
    "\n",
    "                i_element_m2 = soup.find('i', class_='icon-stotal')\n",
    "                m2_ = []\n",
    "                if i_element_m2:\n",
    "                    desired_string = i_element_m2.find_next_sibling(string=True).text\n",
    "                    desired_string = desired_string.replace('\\n', '').replace('\\t', '')\n",
    "                    print(desired_string)\n",
    "                    m2_.append(desired_string)\n",
    "\n",
    "                i_element_m2_ = soup.find('i', class_='icon-scubierta')\n",
    "                m2_reales = []\n",
    "                if i_element_m2_:\n",
    "                    desired_string = i_element_m2_.find_next_sibling(string=True).text\n",
    "                    desired_string = desired_string.replace('\\n', '').replace('\\t', '')\n",
    "                    print(desired_string)\n",
    "                    m2_reales.append(desired_string)\n",
    "\n",
    "                i_element_dormitorios = soup.find('i', class_='icon-dormitorio')\n",
    "                dormitorios_ = []\n",
    "                if i_element_dormitorios:\n",
    "                    desired_string = i_element_dormitorios.find_next_sibling(string=True).text\n",
    "                    desired_string = desired_string.replace('\\n', '').replace('\\t', '')\n",
    "                    print(desired_string)\n",
    "                    dormitorios_.append(desired_string)\n",
    "\n",
    "                i_element_antiguo = soup.find('i', class_='icon-antiguedad')\n",
    "                antiguedad_ = []\n",
    "                if i_element_antiguo:\n",
    "                    desired_string = i_element_antiguo.find_next_sibling(string=True).text\n",
    "                    desired_string = desired_string.replace('\\n', '').replace('\\t', '')\n",
    "                    print(desired_string)\n",
    "                    antiguedad_.append(desired_string)\n",
    "\n",
    "            except:\n",
    "                break"
   ]
  },
  {
   "cell_type": "code",
   "execution_count": null,
   "metadata": {},
   "outputs": [],
   "source": []
  },
  {
   "cell_type": "code",
   "execution_count": null,
   "metadata": {},
   "outputs": [],
   "source": []
  },
  {
   "cell_type": "code",
   "execution_count": 134,
   "metadata": {},
   "outputs": [],
   "source": [
    "gaa = []\n",
    "gaa_2 = []"
   ]
  },
  {
   "cell_type": "code",
   "execution_count": 139,
   "metadata": {},
   "outputs": [
    {
     "name": "stdout",
     "output_type": "stream",
     "text": [
      "venta\n",
      "Desde\n",
      "Desde\n",
      "S/ 220,000  ·\n",
      "S/ 220,000  ·\n",
      "USD 57,500\n",
      "USD 57,500\n"
     ]
    }
   ],
   "source": [
    "precios = soup.find_all(\"span\", attrs = {\"class\":\"list-prices\"})\n",
    "            #print(precios)\n",
    "            \n",
    "for precio in precios:\n",
    "    x = precio.find_all(\"span\")\n",
    "    #print(x)\n",
    "    for i in x:\n",
    "        i = i.text\n",
    "        i = i.strip()\n",
    "        \n",
    "        if i not in ['.','venta',\"\",'·']:\n",
    "            print(i)\n",
    "            i = i.replace('·', '').strip()\n",
    "            gaa.append(i)\n",
    "    x = ''.join(gaa)\n",
    "    gaa_2.append(x)\n"
   ]
  },
  {
   "cell_type": "code",
   "execution_count": 136,
   "metadata": {},
   "outputs": [
    {
     "data": {
      "text/plain": [
       "['Desde', 'S/ 220,000', 'USD 57,500']"
      ]
     },
     "execution_count": 136,
     "metadata": {},
     "output_type": "execute_result"
    }
   ],
   "source": [
    "gaa"
   ]
  },
  {
   "cell_type": "code",
   "execution_count": 137,
   "metadata": {},
   "outputs": [
    {
     "data": {
      "text/plain": [
       "'DesdeS/ 220,000USD 57,500'"
      ]
     },
     "execution_count": 137,
     "metadata": {},
     "output_type": "execute_result"
    }
   ],
   "source": [
    "''.join(gaa)"
   ]
  },
  {
   "cell_type": "code",
   "execution_count": 138,
   "metadata": {},
   "outputs": [
    {
     "data": {
      "text/plain": [
       "['DesdeS/ 220,000USD 57,500']"
      ]
     },
     "execution_count": 138,
     "metadata": {},
     "output_type": "execute_result"
    }
   ],
   "source": [
    "gaa_2"
   ]
  },
  {
   "cell_type": "code",
   "execution_count": 212,
   "metadata": {},
   "outputs": [
    {
     "data": {
      "text/html": [
       "<div>\n",
       "<style scoped>\n",
       "    .dataframe tbody tr th:only-of-type {\n",
       "        vertical-align: middle;\n",
       "    }\n",
       "\n",
       "    .dataframe tbody tr th {\n",
       "        vertical-align: top;\n",
       "    }\n",
       "\n",
       "    .dataframe thead th {\n",
       "        text-align: right;\n",
       "    }\n",
       "</style>\n",
       "<table border=\"1\" class=\"dataframe\">\n",
       "  <thead>\n",
       "    <tr style=\"text-align: right;\">\n",
       "      <th></th>\n",
       "      <th>lista_precios</th>\n",
       "      <th>lista_locacion</th>\n",
       "      <th>baños_medios</th>\n",
       "      <th>m2_</th>\n",
       "      <th>m2_reales</th>\n",
       "      <th>banos_</th>\n",
       "      <th>dormitorios_</th>\n",
       "      <th>antiguedad_</th>\n",
       "      <th>unidades</th>\n",
       "      <th>cochera</th>\n",
       "    </tr>\n",
       "  </thead>\n",
       "  <tbody>\n",
       "    <tr>\n",
       "      <th>0</th>\n",
       "      <td>['DesdeS/ 264,704USD 70,400']</td>\n",
       "      <td>[' Calle Prolongacion Ramon Castilla 604 La Li...</td>\n",
       "      <td>[]</td>\n",
       "      <td>['63 a 195 m² tot.']</td>\n",
       "      <td>[]</td>\n",
       "      <td>[]</td>\n",
       "      <td>['2 a 4                                       ...</td>\n",
       "      <td>[]</td>\n",
       "      <td>[]</td>\n",
       "      <td>[]</td>\n",
       "    </tr>\n",
       "    <tr>\n",
       "      <th>1</th>\n",
       "      <td>['DesdeS/ 451,400USD 122,000']</td>\n",
       "      <td>[' Calle Gonzales Vigil 117, Umacollo,  Arequi...</td>\n",
       "      <td>[]</td>\n",
       "      <td>[]</td>\n",
       "      <td>[]</td>\n",
       "      <td>[]</td>\n",
       "      <td>['2 a 3                                       ...</td>\n",
       "      <td>[]</td>\n",
       "      <td>[]</td>\n",
       "      <td>[]</td>\n",
       "    </tr>\n",
       "    <tr>\n",
       "      <th>2</th>\n",
       "      <td>['DesdeS/ 345,210USD 93,000']</td>\n",
       "      <td>[' Calle Miguel de Cervantes Saavedra 117 - 11...</td>\n",
       "      <td>[]</td>\n",
       "      <td>['93 m² tot.']</td>\n",
       "      <td>[]</td>\n",
       "      <td>[]</td>\n",
       "      <td>['2 a 3                                       ...</td>\n",
       "      <td>[]</td>\n",
       "      <td>[]</td>\n",
       "      <td>[]</td>\n",
       "    </tr>\n",
       "    <tr>\n",
       "      <th>3</th>\n",
       "      <td>['DesdeS/ 553,185USD 145,575']</td>\n",
       "      <td>[' JF92+2PC, Cayma 04017,  Macondo, Cayma']</td>\n",
       "      <td>[]</td>\n",
       "      <td>['116 a 201 m² tot.']</td>\n",
       "      <td>[]</td>\n",
       "      <td>[]</td>\n",
       "      <td>['3                                           ...</td>\n",
       "      <td>[]</td>\n",
       "      <td>[]</td>\n",
       "      <td>[]</td>\n",
       "    </tr>\n",
       "    <tr>\n",
       "      <th>4</th>\n",
       "      <td>['DesdeS/ 220,000USD 57,500']</td>\n",
       "      <td>[' Av Bolognesi 902,  Cayma, Arequipa']</td>\n",
       "      <td>[]</td>\n",
       "      <td>['36 a 110 m² tot.']</td>\n",
       "      <td>[]</td>\n",
       "      <td>[]</td>\n",
       "      <td>['1 a 3                                       ...</td>\n",
       "      <td>[]</td>\n",
       "      <td>[]</td>\n",
       "      <td>[]</td>\n",
       "    </tr>\n",
       "    <tr>\n",
       "      <th>5</th>\n",
       "      <td>['DesdeS/ 748,250USD 199,534']</td>\n",
       "      <td>[' CAYMA 315,  Cayma, Arequipa']</td>\n",
       "      <td>[]</td>\n",
       "      <td>['114 a 270 m² tot.']</td>\n",
       "      <td>[]</td>\n",
       "      <td>[]</td>\n",
       "      <td>['3 a 4                                       ...</td>\n",
       "      <td>[]</td>\n",
       "      <td>[]</td>\n",
       "      <td>[]</td>\n",
       "    </tr>\n",
       "    <tr>\n",
       "      <th>6</th>\n",
       "      <td>['DesdeS/ 748,250USD 199,534']</td>\n",
       "      <td>[' AVENIDA CAYMA 315,  Cayma, Arequipa']</td>\n",
       "      <td>[]</td>\n",
       "      <td>['114 a 270 m² tot.']</td>\n",
       "      <td>[]</td>\n",
       "      <td>[]</td>\n",
       "      <td>['3 a 4                                       ...</td>\n",
       "      <td>[]</td>\n",
       "      <td>[]</td>\n",
       "      <td>[]</td>\n",
       "    </tr>\n",
       "    <tr>\n",
       "      <th>7</th>\n",
       "      <td>['']</td>\n",
       "      <td>[' Cerro Colorado,  Cerro Colorado, Arequipa']</td>\n",
       "      <td>[]</td>\n",
       "      <td>['59m² tot.']</td>\n",
       "      <td>['59m² cub.']</td>\n",
       "      <td>['2baños']</td>\n",
       "      <td>['2 dorm. ']</td>\n",
       "      <td>['2 años']</td>\n",
       "      <td>[]</td>\n",
       "      <td>[]</td>\n",
       "    </tr>\n",
       "    <tr>\n",
       "      <th>8</th>\n",
       "      <td>['']</td>\n",
       "      <td>[' Urb. Tahuaycani,  Arequipa, Arequipa']</td>\n",
       "      <td>[]</td>\n",
       "      <td>['153m² tot.']</td>\n",
       "      <td>['134m² cub.']</td>\n",
       "      <td>['3baños']</td>\n",
       "      <td>['3 dorm. ']</td>\n",
       "      <td>['A estrenar']</td>\n",
       "      <td>[]</td>\n",
       "      <td>['1 estac.']</td>\n",
       "    </tr>\n",
       "    <tr>\n",
       "      <th>9</th>\n",
       "      <td>['']</td>\n",
       "      <td>[' Urb. Monte Bello g -19,  Monte Bello, Cerro...</td>\n",
       "      <td>[]</td>\n",
       "      <td>['80m² tot.']</td>\n",
       "      <td>['80m² cub.']</td>\n",
       "      <td>['2baños']</td>\n",
       "      <td>['3 dorm. ']</td>\n",
       "      <td>['A estrenar']</td>\n",
       "      <td>[]</td>\n",
       "      <td>['1 estac.']</td>\n",
       "    </tr>\n",
       "  </tbody>\n",
       "</table>\n",
       "</div>"
      ],
      "text/plain": [
       "                    lista_precios  \\\n",
       "0   ['DesdeS/ 264,704USD 70,400']   \n",
       "1  ['DesdeS/ 451,400USD 122,000']   \n",
       "2   ['DesdeS/ 345,210USD 93,000']   \n",
       "3  ['DesdeS/ 553,185USD 145,575']   \n",
       "4   ['DesdeS/ 220,000USD 57,500']   \n",
       "5  ['DesdeS/ 748,250USD 199,534']   \n",
       "6  ['DesdeS/ 748,250USD 199,534']   \n",
       "7                            ['']   \n",
       "8                            ['']   \n",
       "9                            ['']   \n",
       "\n",
       "                                      lista_locacion baños_medios  \\\n",
       "0  [' Calle Prolongacion Ramon Castilla 604 La Li...           []   \n",
       "1  [' Calle Gonzales Vigil 117, Umacollo,  Arequi...           []   \n",
       "2  [' Calle Miguel de Cervantes Saavedra 117 - 11...           []   \n",
       "3        [' JF92+2PC, Cayma 04017,  Macondo, Cayma']           []   \n",
       "4            [' Av Bolognesi 902,  Cayma, Arequipa']           []   \n",
       "5                   [' CAYMA 315,  Cayma, Arequipa']           []   \n",
       "6           [' AVENIDA CAYMA 315,  Cayma, Arequipa']           []   \n",
       "7     [' Cerro Colorado,  Cerro Colorado, Arequipa']           []   \n",
       "8          [' Urb. Tahuaycani,  Arequipa, Arequipa']           []   \n",
       "9  [' Urb. Monte Bello g -19,  Monte Bello, Cerro...           []   \n",
       "\n",
       "                     m2_       m2_reales      banos_  \\\n",
       "0   ['63 a 195 m² tot.']              []          []   \n",
       "1                     []              []          []   \n",
       "2         ['93 m² tot.']              []          []   \n",
       "3  ['116 a 201 m² tot.']              []          []   \n",
       "4   ['36 a 110 m² tot.']              []          []   \n",
       "5  ['114 a 270 m² tot.']              []          []   \n",
       "6  ['114 a 270 m² tot.']              []          []   \n",
       "7          ['59m² tot.']   ['59m² cub.']  ['2baños']   \n",
       "8         ['153m² tot.']  ['134m² cub.']  ['3baños']   \n",
       "9          ['80m² tot.']   ['80m² cub.']  ['2baños']   \n",
       "\n",
       "                                        dormitorios_     antiguedad_ unidades  \\\n",
       "0  ['2 a 4                                       ...              []       []   \n",
       "1  ['2 a 3                                       ...              []       []   \n",
       "2  ['2 a 3                                       ...              []       []   \n",
       "3  ['3                                           ...              []       []   \n",
       "4  ['1 a 3                                       ...              []       []   \n",
       "5  ['3 a 4                                       ...              []       []   \n",
       "6  ['3 a 4                                       ...              []       []   \n",
       "7                                       ['2 dorm. ']      ['2 años']       []   \n",
       "8                                       ['3 dorm. ']  ['A estrenar']       []   \n",
       "9                                       ['3 dorm. ']  ['A estrenar']       []   \n",
       "\n",
       "        cochera  \n",
       "0            []  \n",
       "1            []  \n",
       "2            []  \n",
       "3            []  \n",
       "4            []  \n",
       "5            []  \n",
       "6            []  \n",
       "7            []  \n",
       "8  ['1 estac.']  \n",
       "9  ['1 estac.']  "
      ]
     },
     "execution_count": 212,
     "metadata": {},
     "output_type": "execute_result"
    }
   ],
   "source": [
    "import pandas as pd\n",
    "df1 = pd.read_csv(\"Depas.csv\")\n",
    "df1.head(10)"
   ]
  },
  {
   "cell_type": "code",
   "execution_count": null,
   "metadata": {},
   "outputs": [],
   "source": []
  }
 ],
 "metadata": {
  "kernelspec": {
   "display_name": "Python 3 (ipykernel)",
   "language": "python",
   "name": "python3"
  },
  "language_info": {
   "codemirror_mode": {
    "name": "ipython",
    "version": 3
   },
   "file_extension": ".py",
   "mimetype": "text/x-python",
   "name": "python",
   "nbconvert_exporter": "python",
   "pygments_lexer": "ipython3",
   "version": "3.11.5"
  }
 },
 "nbformat": 4,
 "nbformat_minor": 4
}
